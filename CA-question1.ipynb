{
 "cells": [
  {
   "cell_type": "markdown",
   "metadata": {},
   "source": [
    "## Data Visualization"
   ]
  },
  {
   "cell_type": "code",
   "execution_count": 2,
   "metadata": {},
   "outputs": [],
   "source": [
    "import matplotlib.pyplot as plt\n",
    "import pandas as pd"
   ]
  },
  {
   "cell_type": "code",
   "execution_count": 3,
   "metadata": {},
   "outputs": [],
   "source": [
    "f500data= pd.read_csv(\"fortune500_data.csv\")"
   ]
  },
  {
   "cell_type": "code",
   "execution_count": 4,
   "metadata": {},
   "outputs": [
    {
     "data": {
      "text/html": [
       "<div>\n",
       "<style scoped>\n",
       "    .dataframe tbody tr th:only-of-type {\n",
       "        vertical-align: middle;\n",
       "    }\n",
       "\n",
       "    .dataframe tbody tr th {\n",
       "        vertical-align: top;\n",
       "    }\n",
       "\n",
       "    .dataframe thead th {\n",
       "        text-align: right;\n",
       "    }\n",
       "</style>\n",
       "<table border=\"1\" class=\"dataframe\">\n",
       "  <thead>\n",
       "    <tr style=\"text-align: right;\">\n",
       "      <th></th>\n",
       "      <th>Year</th>\n",
       "      <th>Rank</th>\n",
       "      <th>Company</th>\n",
       "      <th>Revenue</th>\n",
       "      <th>Profit</th>\n",
       "    </tr>\n",
       "  </thead>\n",
       "  <tbody>\n",
       "    <tr>\n",
       "      <th>0</th>\n",
       "      <td>1955</td>\n",
       "      <td>1</td>\n",
       "      <td>General Motors</td>\n",
       "      <td>9823.5</td>\n",
       "      <td>806</td>\n",
       "    </tr>\n",
       "    <tr>\n",
       "      <th>1</th>\n",
       "      <td>1955</td>\n",
       "      <td>2</td>\n",
       "      <td>Exxon Mobil</td>\n",
       "      <td>5661.4</td>\n",
       "      <td>584.8</td>\n",
       "    </tr>\n",
       "    <tr>\n",
       "      <th>2</th>\n",
       "      <td>1955</td>\n",
       "      <td>3</td>\n",
       "      <td>U.S. Steel</td>\n",
       "      <td>3250.4</td>\n",
       "      <td>195.4</td>\n",
       "    </tr>\n",
       "    <tr>\n",
       "      <th>3</th>\n",
       "      <td>1955</td>\n",
       "      <td>4</td>\n",
       "      <td>General Electric</td>\n",
       "      <td>2959.1</td>\n",
       "      <td>212.6</td>\n",
       "    </tr>\n",
       "    <tr>\n",
       "      <th>4</th>\n",
       "      <td>1955</td>\n",
       "      <td>5</td>\n",
       "      <td>Esmark</td>\n",
       "      <td>2510.8</td>\n",
       "      <td>19.1</td>\n",
       "    </tr>\n",
       "  </tbody>\n",
       "</table>\n",
       "</div>"
      ],
      "text/plain": [
       "   Year  Rank           Company  Revenue Profit\n",
       "0  1955     1    General Motors   9823.5    806\n",
       "1  1955     2       Exxon Mobil   5661.4  584.8\n",
       "2  1955     3        U.S. Steel   3250.4  195.4\n",
       "3  1955     4  General Electric   2959.1  212.6\n",
       "4  1955     5            Esmark   2510.8   19.1"
      ]
     },
     "execution_count": 4,
     "metadata": {},
     "output_type": "execute_result"
    }
   ],
   "source": [
    "f500data.head()"
   ]
  },
  {
   "cell_type": "code",
   "execution_count": 5,
   "metadata": {},
   "outputs": [
    {
     "data": {
      "text/html": [
       "<div>\n",
       "<style scoped>\n",
       "    .dataframe tbody tr th:only-of-type {\n",
       "        vertical-align: middle;\n",
       "    }\n",
       "\n",
       "    .dataframe tbody tr th {\n",
       "        vertical-align: top;\n",
       "    }\n",
       "\n",
       "    .dataframe thead th {\n",
       "        text-align: right;\n",
       "    }\n",
       "</style>\n",
       "<table border=\"1\" class=\"dataframe\">\n",
       "  <thead>\n",
       "    <tr style=\"text-align: right;\">\n",
       "      <th></th>\n",
       "      <th>Year</th>\n",
       "      <th>Rank</th>\n",
       "      <th>Revenue</th>\n",
       "    </tr>\n",
       "  </thead>\n",
       "  <tbody>\n",
       "    <tr>\n",
       "      <th>count</th>\n",
       "      <td>25500.00000</td>\n",
       "      <td>25500.000000</td>\n",
       "      <td>25500.000000</td>\n",
       "    </tr>\n",
       "    <tr>\n",
       "      <th>mean</th>\n",
       "      <td>1980.00000</td>\n",
       "      <td>250.499765</td>\n",
       "      <td>4273.329635</td>\n",
       "    </tr>\n",
       "    <tr>\n",
       "      <th>std</th>\n",
       "      <td>14.71989</td>\n",
       "      <td>144.339963</td>\n",
       "      <td>11351.884979</td>\n",
       "    </tr>\n",
       "    <tr>\n",
       "      <th>min</th>\n",
       "      <td>1955.00000</td>\n",
       "      <td>1.000000</td>\n",
       "      <td>49.700000</td>\n",
       "    </tr>\n",
       "    <tr>\n",
       "      <th>25%</th>\n",
       "      <td>1967.00000</td>\n",
       "      <td>125.750000</td>\n",
       "      <td>362.300000</td>\n",
       "    </tr>\n",
       "    <tr>\n",
       "      <th>50%</th>\n",
       "      <td>1980.00000</td>\n",
       "      <td>250.500000</td>\n",
       "      <td>1019.000000</td>\n",
       "    </tr>\n",
       "    <tr>\n",
       "      <th>75%</th>\n",
       "      <td>1993.00000</td>\n",
       "      <td>375.250000</td>\n",
       "      <td>3871.000000</td>\n",
       "    </tr>\n",
       "    <tr>\n",
       "      <th>max</th>\n",
       "      <td>2005.00000</td>\n",
       "      <td>500.000000</td>\n",
       "      <td>288189.000000</td>\n",
       "    </tr>\n",
       "  </tbody>\n",
       "</table>\n",
       "</div>"
      ],
      "text/plain": [
       "              Year          Rank        Revenue\n",
       "count  25500.00000  25500.000000   25500.000000\n",
       "mean    1980.00000    250.499765    4273.329635\n",
       "std       14.71989    144.339963   11351.884979\n",
       "min     1955.00000      1.000000      49.700000\n",
       "25%     1967.00000    125.750000     362.300000\n",
       "50%     1980.00000    250.500000    1019.000000\n",
       "75%     1993.00000    375.250000    3871.000000\n",
       "max     2005.00000    500.000000  288189.000000"
      ]
     },
     "execution_count": 5,
     "metadata": {},
     "output_type": "execute_result"
    }
   ],
   "source": [
    "f500data.describe()"
   ]
  },
  {
   "cell_type": "markdown",
   "metadata": {},
   "source": [
    "Question 1:\n",
    "Generate a plot that details the 5 top Companies by Revenue for each Decade.\n",
    "E.g., Top 5 for 1950-1959, 1960-1969, etc. This must be a single plot, either static or interactive.\n",
    "\n",
    "To do this I must first identify the top 5 Companies by Revenue for each Decade. I create a new dataframe that\n",
    "contains the top 5 companies in each year and put it in a new dataframe.\n"
   ]
  },
  {
   "cell_type": "code",
   "execution_count": 7,
   "metadata": {},
   "outputs": [
    {
     "data": {
      "text/html": [
       "<div>\n",
       "<style scoped>\n",
       "    .dataframe tbody tr th:only-of-type {\n",
       "        vertical-align: middle;\n",
       "    }\n",
       "\n",
       "    .dataframe tbody tr th {\n",
       "        vertical-align: top;\n",
       "    }\n",
       "\n",
       "    .dataframe thead th {\n",
       "        text-align: right;\n",
       "    }\n",
       "</style>\n",
       "<table border=\"1\" class=\"dataframe\">\n",
       "  <thead>\n",
       "    <tr style=\"text-align: right;\">\n",
       "      <th></th>\n",
       "      <th>Year</th>\n",
       "      <th>Rank</th>\n",
       "      <th>Company</th>\n",
       "      <th>Revenue</th>\n",
       "      <th>Profit</th>\n",
       "    </tr>\n",
       "  </thead>\n",
       "  <tbody>\n",
       "  </tbody>\n",
       "</table>\n",
       "</div>"
      ],
      "text/plain": [
       "Empty DataFrame\n",
       "Columns: [Year, Rank, Company, Revenue, Profit]\n",
       "Index: []"
      ]
     },
     "execution_count": 7,
     "metadata": {},
     "output_type": "execute_result"
    }
   ],
   "source": [
    "# Create an empty DataFrame with the same columns to store the top 5 companies by year\n",
    "top_5_companies_by_year = pd.DataFrame(columns=f500data.columns)\n",
    "#top_5_companies_by_year.head()"
   ]
  },
  {
   "cell_type": "code",
   "execution_count": 25,
   "metadata": {},
   "outputs": [
    {
     "name": "stdout",
     "output_type": "stream",
     "text": [
      "      Year Rank           Company   Revenue Profit\n",
      "0     1955    1    General Motors    9823.5    806\n",
      "1     1955    2       Exxon Mobil    5661.4  584.8\n",
      "2     1955    3        U.S. Steel    3250.4  195.4\n",
      "3     1955    4  General Electric    2959.1  212.6\n",
      "4     1955    5            Esmark    2510.8   19.1\n",
      "...    ...  ...               ...       ...    ...\n",
      "2035  2005    1   Wal-Mart Stores  288189.0  10267\n",
      "2036  2005    2       Exxon Mobil  270772.0  25330\n",
      "2037  2005    3    General Motors  193517.0   2805\n",
      "2038  2005    4        Ford Motor  172233.0   3487\n",
      "2039  2005    5  General Electric  152363.0  16593\n",
      "\n",
      "[2040 rows x 5 columns]\n"
     ]
    }
   ],
   "source": [
    "# Iterate through each year and find the largest 5 by Revenue and pop it \n",
    "for year in range(1950, 2010):  # Change the range to your desired years\n",
    "    # Filter the data for the current year and select the top 5 ranking companies\n",
    "    top_5 = f500data[f500data['Year'] == year].nlargest(5, 'Revenue')\n",
    "    #print (top_5)\n",
    "     # Append the top 5 companies for the current year to the new DataFrame\n",
    "    top_5_companies_by_year = pd.concat([top_5_companies_by_year, top_5], ignore_index=True)\n",
    "\n",
    "# top_5_companies_by_year.head()\n",
    "# top_5_companies_by_year.describe()\n",
    "# Save the new DataFrame to a CSV file if needed\n",
    "top_5_companies_by_year.to_csv(\"top_5_companies_by_year.csv\", index=False)\n",
    "\n",
    "# Display the new DataFrame\n",
    "print(top_5_companies_by_year)"
   ]
  },
  {
   "cell_type": "code",
   "execution_count": null,
   "metadata": {},
   "outputs": [],
   "source": [
    "# Load your company data into a pandas dataframe\n",
    "df = pd.read_csv('company_data.csv')\n",
    "\n",
    "# Convert the date column to a pandas datetime object\n",
    "df['Year'] = pd.to_datetime(df['Year'])\n",
    "\n",
    "# Group the data by company and decade and sum the revenue values\n",
    "df_decade = df.groupby([df['Company'], df['Year'].dt.year // 10 * 10])['Revenue'].sum()\n",
    "\n",
    "# Print the resulting dataframe\n",
    "print(df_decade)"
   ]
  },
  {
   "cell_type": "code",
   "execution_count": null,
   "metadata": {},
   "outputs": [],
   "source": []
  },
  {
   "cell_type": "markdown",
   "metadata": {},
   "source": [
    "Next I must aggretate the company data by decade, \n",
    "so for each decade  aggregate each company's revenue in that \n",
    "decade and then rank the companies in that decade.\n",
    "some decades are only 5 years "
   ]
  },
  {
   "cell_type": "code",
   "execution_count": 27,
   "metadata": {},
   "outputs": [
    {
     "name": "stdout",
     "output_type": "stream",
     "text": [
      "      Decade  Total Revenue\n",
      "0  1950-1959      1192781.6\n"
     ]
    }
   ],
   "source": [
    "# Load the data from the saved CSV file\n",
    "top5data = pd.read_csv(\"top_5_companies_by_year.csv\")\n",
    "\n",
    "# Extract the year from the 'Year' column\n",
    "top5data['Year'] = pd.to_datetime(top5data['Year'], format='%Y').dt.year\n",
    "\n",
    "# Filter the data for the years 1950 to 1959\n",
    "filtered_data = top5data[(top5data['Year'] >= 1950) & (top5data['Year'] <= 1959)]\n",
    "\n",
    "# Calculate the total revenue for the specified years\n",
    "total_revenue = filtered_data['Revenue'].sum()\n",
    "\n",
    "# Create a new DataFrame to store the total revenue for the specified years\n",
    "total_revenue_df = pd.DataFrame({'Decade': ['1950-1959'], 'Total Revenue': [total_revenue]})\n",
    "\n",
    "# Display the new DataFrame\n",
    "print(total_revenue_df)"
   ]
  },
  {
   "cell_type": "code",
   "execution_count": 19,
   "metadata": {},
   "outputs": [
    {
     "name": "stdout",
     "output_type": "stream",
     "text": [
      "            Company  Total Revenue 1950-1959\n",
      "0          Chrysler                   3466.2\n",
      "1            Esmark                   2510.8\n",
      "2       Exxon Mobil                  34434.5\n",
      "3        Ford Motor                  20142.6\n",
      "4  General Electric                  15505.6\n",
      "5    General Motors                  53575.0\n",
      "6        U.S. Steel                  19463.0\n"
     ]
    }
   ],
   "source": [
    "df = pd.read_csv(\"top_5_companies_by_year.csv\")\n",
    "\n",
    "# Extract the year from the 'Year' column\n",
    "df['Year'] = pd.to_datetime(df['Year'], format='%Y').dt.year\n",
    "\n",
    "# Filter the data for the years 1950 to 1959\n",
    "filtered_data = df[(df['Year'] >= 1950) & (df['Year'] <= 1959)]\n",
    "\n",
    "# Group the data by company and calculate the total revenue for each company during that period\n",
    "company_total_revenue = filtered_data.groupby('Company')['Revenue'].sum().reset_index()\n",
    "\n",
    "# Rename the columns for clarity\n",
    "company_total_revenue.columns = ['Company', 'Total Revenue 1950-1959']\n",
    "\n",
    "# Display the new DataFrame\n",
    "print(company_total_revenue)\n"
   ]
  },
  {
   "cell_type": "code",
   "execution_count": 20,
   "metadata": {},
   "outputs": [
    {
     "name": "stdout",
     "output_type": "stream",
     "text": [
      "            Company  Total Revenue 1950-1959  Rank Year Range\n",
      "0          Chrysler                   3466.2     6  1950-1959\n",
      "1            Esmark                   2510.8     7  1950-1959\n",
      "2       Exxon Mobil                  34434.5     2  1950-1959\n",
      "3        Ford Motor                  20142.6     3  1950-1959\n",
      "4  General Electric                  15505.6     5  1950-1959\n",
      "5    General Motors                  53575.0     1  1950-1959\n",
      "6        U.S. Steel                  19463.0     4  1950-1959\n"
     ]
    }
   ],
   "source": [
    "# Load the data from the CSV file\n",
    "df = pd.read_csv(\"top_5_companies_by_year.csv\")\n",
    "\n",
    "# Extract the year from the 'Year' column\n",
    "df['Year'] = pd.to_datetime(df['Year'], format='%Y').dt.year\n",
    "\n",
    "# Filter the data for the years 1950 to 1959\n",
    "filtered_data = df[(df['Year'] >= 1950) & (df['Year'] <= 1959)]\n",
    "\n",
    "# Group the data by company and calculate the total revenue for each company during that period\n",
    "company_total_revenue = filtered_data.groupby('Company')['Revenue'].sum().reset_index()\n",
    "\n",
    "# Rename the columns for clarity\n",
    "company_total_revenue.columns = ['Company', 'Total Revenue 1950-1959']\n",
    "\n",
    "# Assign a rank to each company based on their total revenue\n",
    "company_total_revenue['Rank'] = company_total_revenue['Total Revenue 1950-1959'].rank(ascending=False).astype(int)\n",
    "\n",
    "# Add a column for the year range\n",
    "company_total_revenue['Year Range'] = '1950-1959'\n",
    "\n",
    "# Display the new DataFrame\n",
    "print(company_total_revenue)"
   ]
  },
  {
   "cell_type": "code",
   "execution_count": 21,
   "metadata": {},
   "outputs": [
    {
     "name": "stdout",
     "output_type": "stream",
     "text": [
      "            Company  Total Revenue 1960-1969  Rank Year Range\n",
      "0          Chrysler                  24608.1     5  1960-1969\n",
      "1       Exxon Mobil                 106019.2     2  1960-1969\n",
      "2        Ford Motor                  92174.7     3  1960-1969\n",
      "3  General Electric                  57170.3     4  1960-1969\n",
      "4    General Motors                 167221.2     1  1960-1969\n",
      "5             Mobil                  16106.0     6  1960-1969\n",
      "6        U.S. Steel                   7341.5     7  1960-1969\n"
     ]
    }
   ],
   "source": [
    "# Load the data from the CSV file\n",
    "df = pd.read_csv(\"top_5_companies_by_year.csv\")\n",
    "\n",
    "# Extract the year from the 'Year' column\n",
    "df['Year'] = pd.to_datetime(df['Year'], format='%Y').dt.year\n",
    "\n",
    "# Filter the data for the years 1950 to 1959\n",
    "filtered_data = df[(df['Year'] >= 1960) & (df['Year'] <= 1969)]\n",
    "\n",
    "# Group the data by company and calculate the total revenue for each company during that period\n",
    "company_total_revenue = filtered_data.groupby('Company')['Revenue'].sum().reset_index()\n",
    "\n",
    "# Rename the columns for clarity\n",
    "company_total_revenue.columns = ['Company', 'Total Revenue 1960-1969']\n",
    "\n",
    "# Assign a rank to each company based on their total revenue\n",
    "company_total_revenue['Rank'] = company_total_revenue['Total Revenue 1960-1969'].rank(ascending=False).astype(int)\n",
    "\n",
    "# Add a column for the year range\n",
    "company_total_revenue['Year Range'] = '1960-1969'\n",
    "\n",
    "# Display the new DataFrame\n",
    "print(company_total_revenue)"
   ]
  },
  {
   "cell_type": "code",
   "execution_count": 22,
   "metadata": {},
   "outputs": [
    {
     "name": "stdout",
     "output_type": "stream",
     "text": [
      "   Year Range                  Company Total Revenue Rank    Revenue\n",
      "0   1955-1964                 Chrysler           NaN    7     3466.2\n",
      "1   1955-1964                   Esmark           NaN    8     2510.8\n",
      "2   1955-1964              Exxon Mobil           NaN    2    78618.8\n",
      "3   1955-1964               Ford Motor           NaN    3    54278.9\n",
      "4   1955-1964         General Electric           NaN    4    38220.8\n",
      "5   1955-1964           General Motors           NaN    1   120075.0\n",
      "6   1955-1964                    Mobil           NaN    6    11606.6\n",
      "7   1955-1964               U.S. Steel           NaN    5    26804.5\n",
      "8   1965-1974                 Chrysler           NaN    5    46141.6\n",
      "9   1965-1974              Exxon Mobil           NaN    2   158053.6\n",
      "10  1965-1974               Ford Motor           NaN    3   147416.4\n",
      "11  1965-1974         General Electric           NaN    4    82869.9\n",
      "12  1965-1974           General Motors           NaN    1   238266.1\n",
      "13  1965-1974  Intl. Business Machines           NaN    6    22974.9\n",
      "14  1965-1974                    Mobil           NaN    7     4499.4\n",
      "15  1975-1984            ChevronTexaco           NaN    6    84703.0\n",
      "16  1975-1984              Exxon Mobil           NaN    1   726108.2\n",
      "17  1975-1984               Ford Motor           NaN    5   282130.4\n",
      "18  1975-1984           General Motors           NaN    2   553983.2\n",
      "19  1975-1984  Intl. Business Machines           NaN    7    40180.0\n",
      "20  1975-1984                    Mobil           NaN    3   415745.7\n",
      "21  1975-1984                   Texaco           NaN    4   324903.1\n",
      "22  1985-1994              Exxon Mobil           NaN    2   900543.0\n",
      "23  1985-1994               Ford Motor           NaN    3   825422.3\n",
      "24  1985-1994         General Electric           NaN    5   287939.0\n",
      "25  1985-1994           General Motors           NaN    1  1148219.5\n",
      "26  1985-1994  Intl. Business Machines           NaN    4   540866.0\n",
      "27  1985-1994                    Mobil           NaN    6   266866.0\n",
      "28  1985-1994                   Texaco           NaN    7    47334.0\n",
      "29  1995-2004                     AT&T           NaN    6   154703.0\n",
      "30  1995-2004                    Enron           NaN    7   138718.0\n",
      "31  1995-2004              Exxon Mobil           NaN    4  1515497.0\n",
      "32  1995-2004               Ford Motor           NaN    3  1544304.0\n",
      "33  1995-2004         General Electric           NaN    5   777856.0\n",
      "34  1995-2004           General Motors           NaN    1  1764996.0\n",
      "35  1995-2004          Wal-Mart Stores           NaN    2  1626815.4\n",
      "36  2005-2014              Exxon Mobil           NaN    2   270772.0\n",
      "37  2005-2014               Ford Motor           NaN    4   172233.0\n",
      "38  2005-2014         General Electric           NaN    5   152363.0\n",
      "39  2005-2014           General Motors           NaN    3   193517.0\n",
      "40  2005-2014          Wal-Mart Stores           NaN    1   288189.0\n"
     ]
    }
   ],
   "source": [
    "\n",
    "# Load the data from the CSV file\n",
    "df = pd.read_csv(\"top_5_companies_by_year.csv\")\n",
    "\n",
    "# Extract the year from the 'Year' column\n",
    "df['Year'] = pd.to_datetime(df['Year'], format='%Y').dt.year\n",
    "\n",
    "# Determine the decades present in the data\n",
    "min_year = df['Year'].min()\n",
    "max_year = df['Year'].max()\n",
    "\n",
    "# Create an empty DataFrame to store the results\n",
    "result_df = pd.DataFrame(columns=['Year Range', 'Company', 'Total Revenue', 'Rank'])\n",
    "\n",
    "# Iterate through each decade\n",
    "for start_year in range(min_year, max_year + 1, 10):\n",
    "    end_year = start_year + 9\n",
    "    year_range = f\"{start_year}-{end_year}\"\n",
    "    \n",
    "    # Filter the data for the current decade\n",
    "    decade_data = df[(df['Year'] >= start_year) & (df['Year'] <= end_year)]\n",
    "    \n",
    "    # Group the data by company and calculate the total revenue for each company during that decade\n",
    "    company_total_revenue = decade_data.groupby('Company')['Revenue'].sum().reset_index()\n",
    "    \n",
    "    # Assign a rank to each company based on their total revenue within the decade\n",
    "    company_total_revenue['Rank'] = company_total_revenue['Revenue'].rank(ascending=False).astype(int)\n",
    "    \n",
    "    # Add the 'Year Range' column\n",
    "    company_total_revenue['Year Range'] = year_range\n",
    "    \n",
    "    # Append the results to the main DataFrame\n",
    "    result_df = pd.concat([result_df, company_total_revenue], ignore_index=True)\n",
    "\n",
    "# Display the final DataFrame\n",
    "print(result_df)\n"
   ]
  },
  {
   "cell_type": "code",
   "execution_count": 24,
   "metadata": {},
   "outputs": [
    {
     "name": "stdout",
     "output_type": "stream",
     "text": [
      "   Year Range                  Company Total Revenue Rank    Revenue\n",
      "0   1950-1959                 Chrysler           NaN    6     3466.2\n",
      "1   1950-1959                   Esmark           NaN    7     2510.8\n",
      "2   1950-1959              Exxon Mobil           NaN    2    34434.5\n",
      "3   1950-1959               Ford Motor           NaN    3    20142.6\n",
      "4   1950-1959         General Electric           NaN    5    15505.6\n",
      "5   1950-1959           General Motors           NaN    1    53575.0\n",
      "6   1950-1959               U.S. Steel           NaN    4    19463.0\n",
      "7   1960-1969                 Chrysler           NaN    5    24608.1\n",
      "8   1960-1969              Exxon Mobil           NaN    2   106019.2\n",
      "9   1960-1969               Ford Motor           NaN    3    92174.7\n",
      "10  1960-1969         General Electric           NaN    4    57170.3\n",
      "11  1960-1969           General Motors           NaN    1   167221.2\n",
      "12  1960-1969                    Mobil           NaN    6    16106.0\n",
      "13  1960-1969               U.S. Steel           NaN    7     7341.5\n",
      "14  1970-1979                 Chrysler           NaN    8    21533.5\n",
      "15  1970-1979              Exxon Mobil           NaN    2   346236.3\n",
      "16  1970-1979               Ford Motor           NaN    3   246472.9\n",
      "17  1970-1979         General Electric           NaN    6    48414.8\n",
      "18  1970-1979           General Motors           NaN    1   370182.7\n",
      "19  1970-1979  Intl. Business Machines           NaN    7    22974.9\n",
      "20  1970-1979                    Mobil           NaN    4   132473.8\n",
      "21  1970-1979                   Texaco           NaN    5   130742.9\n",
      "22  1980-1989            ChevronTexaco           NaN    7    84703.0\n",
      "23  1980-1989              Exxon Mobil           NaN    1   879478.6\n",
      "24  1980-1989               Ford Motor           NaN    4   456981.1\n",
      "25  1980-1989         General Electric           NaN    8    49414.0\n",
      "26  1980-1989           General Motors           NaN    2   827287.7\n",
      "27  1980-1989  Intl. Business Machines           NaN    5   255384.0\n",
      "28  1980-1989                    Mobil           NaN    3   491367.9\n",
      "29  1980-1989                   Texaco           NaN    6   241494.2\n",
      "30  1990-1999                     AT&T           NaN    7   154703.0\n",
      "31  1990-1999              Exxon Mobil           NaN    3  1051133.0\n",
      "32  1990-1999               Ford Motor           NaN    2  1204086.7\n",
      "33  1990-1999         General Electric           NaN    5   509013.0\n",
      "34  1990-1999           General Motors           NaN    1  1473915.0\n",
      "35  1990-1999  Intl. Business Machines           NaN    6   325662.0\n",
      "36  1990-1999                    Mobil           NaN    8    58770.0\n",
      "37  1990-1999          Wal-Mart Stores           NaN    4   541693.4\n",
      "38  2000-2009                    Enron           NaN    6   138718.0\n",
      "39  2000-2009              Exxon Mobil           NaN    2  1232291.0\n",
      "40  2000-2009               Ford Motor           NaN    4  1005927.0\n",
      "41  2000-2009         General Electric           NaN    5   659731.0\n",
      "42  2000-2009           General Motors           NaN    3  1126875.2\n",
      "43  2000-2009          Wal-Mart Stores           NaN    1  1373311.0\n"
     ]
    }
   ],
   "source": [
    "import pandas as pd\n",
    "\n",
    "# Load the data from the CSV file\n",
    "df = pd.read_csv(\"top_5_companies_by_year.csv\")\n",
    "\n",
    "# Extract the year from the 'Year' column\n",
    "df['Year'] = pd.to_datetime(df['Year'], format='%Y').dt.year\n",
    "\n",
    "# Determine the decades present in the data\n",
    "# min_year = df['Year'].min()\n",
    "# max_year = df['Year'].max()\n",
    "min_year = 1950\n",
    "max_year = 2020\n",
    "\n",
    "# Create an empty DataFrame to store the results\n",
    "result_df = pd.DataFrame(columns=['Year Range', 'Company', 'Total Decade Revenue', 'Rank'])\n",
    "\n",
    "# Iterate through each decade\n",
    "for start_year in range(min_year, max_year + 1, 10):\n",
    "    end_year = start_year + 9\n",
    "    year_range = f\"{start_year}-{end_year}\"\n",
    "    \n",
    "    # Filter the data for the current decade\n",
    "    decade_data = df[(df['Year'] >= start_year) & (df['Year'] <= end_year)]\n",
    "    \n",
    "    # Group the data by company and calculate the total revenue for each company during that decade\n",
    "    company_total_revenue = decade_data.groupby('Company')['Revenue'].sum().reset_index()\n",
    "    \n",
    "    # Assign a rank to each company based on their total revenue within the decade, starting from 1\n",
    "    company_total_revenue['Rank'] = company_total_revenue['Revenue'].rank(ascending=False, method='first').astype(int)\n",
    "    \n",
    "    # Add the 'Year Range' column\n",
    "    company_total_revenue['Year Range'] = year_range\n",
    "    \n",
    "    # Append the results to the main DataFrame\n",
    "    result_df = pd.concat([result_df, company_total_revenue], ignore_index=True)\n",
    "\n",
    "# Display the final DataFrame\n",
    "print(result_df)\n"
   ]
  },
  {
   "cell_type": "code",
   "execution_count": null,
   "metadata": {},
   "outputs": [],
   "source": []
  }
 ],
 "metadata": {
  "kernelspec": {
   "display_name": "Python 3 (ipykernel)",
   "language": "python",
   "name": "python3"
  },
  "language_info": {
   "codemirror_mode": {
    "name": "ipython",
    "version": 3
   },
   "file_extension": ".py",
   "mimetype": "text/x-python",
   "name": "python",
   "nbconvert_exporter": "python",
   "pygments_lexer": "ipython3",
   "version": "3.9.13"
  }
 },
 "nbformat": 4,
 "nbformat_minor": 4
}
