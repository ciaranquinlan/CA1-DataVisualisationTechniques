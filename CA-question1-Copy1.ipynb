{
 "cells": [
  {
   "cell_type": "markdown",
   "metadata": {},
   "source": [
    "## Data Visualization"
   ]
  },
  {
   "cell_type": "code",
   "execution_count": 3,
   "metadata": {},
   "outputs": [],
   "source": [
    "import matplotlib.pyplot as plt\n",
    "import pandas as pd"
   ]
  },
  {
   "cell_type": "code",
   "execution_count": 4,
   "metadata": {},
   "outputs": [],
   "source": [
    "f500data= pd.read_csv(\"fortune500_data.csv\")"
   ]
  },
  {
   "cell_type": "code",
   "execution_count": 5,
   "metadata": {},
   "outputs": [
    {
     "data": {
      "text/html": [
       "<div>\n",
       "<style scoped>\n",
       "    .dataframe tbody tr th:only-of-type {\n",
       "        vertical-align: middle;\n",
       "    }\n",
       "\n",
       "    .dataframe tbody tr th {\n",
       "        vertical-align: top;\n",
       "    }\n",
       "\n",
       "    .dataframe thead th {\n",
       "        text-align: right;\n",
       "    }\n",
       "</style>\n",
       "<table border=\"1\" class=\"dataframe\">\n",
       "  <thead>\n",
       "    <tr style=\"text-align: right;\">\n",
       "      <th></th>\n",
       "      <th>Year</th>\n",
       "      <th>Rank</th>\n",
       "      <th>Company</th>\n",
       "      <th>Revenue</th>\n",
       "      <th>Profit</th>\n",
       "    </tr>\n",
       "  </thead>\n",
       "  <tbody>\n",
       "    <tr>\n",
       "      <th>0</th>\n",
       "      <td>1955</td>\n",
       "      <td>1</td>\n",
       "      <td>General Motors</td>\n",
       "      <td>9823.5</td>\n",
       "      <td>806</td>\n",
       "    </tr>\n",
       "    <tr>\n",
       "      <th>1</th>\n",
       "      <td>1955</td>\n",
       "      <td>2</td>\n",
       "      <td>Exxon Mobil</td>\n",
       "      <td>5661.4</td>\n",
       "      <td>584.8</td>\n",
       "    </tr>\n",
       "    <tr>\n",
       "      <th>2</th>\n",
       "      <td>1955</td>\n",
       "      <td>3</td>\n",
       "      <td>U.S. Steel</td>\n",
       "      <td>3250.4</td>\n",
       "      <td>195.4</td>\n",
       "    </tr>\n",
       "    <tr>\n",
       "      <th>3</th>\n",
       "      <td>1955</td>\n",
       "      <td>4</td>\n",
       "      <td>General Electric</td>\n",
       "      <td>2959.1</td>\n",
       "      <td>212.6</td>\n",
       "    </tr>\n",
       "    <tr>\n",
       "      <th>4</th>\n",
       "      <td>1955</td>\n",
       "      <td>5</td>\n",
       "      <td>Esmark</td>\n",
       "      <td>2510.8</td>\n",
       "      <td>19.1</td>\n",
       "    </tr>\n",
       "  </tbody>\n",
       "</table>\n",
       "</div>"
      ],
      "text/plain": [
       "   Year  Rank           Company  Revenue Profit\n",
       "0  1955     1    General Motors   9823.5    806\n",
       "1  1955     2       Exxon Mobil   5661.4  584.8\n",
       "2  1955     3        U.S. Steel   3250.4  195.4\n",
       "3  1955     4  General Electric   2959.1  212.6\n",
       "4  1955     5            Esmark   2510.8   19.1"
      ]
     },
     "execution_count": 5,
     "metadata": {},
     "output_type": "execute_result"
    }
   ],
   "source": [
    "f500data.head()"
   ]
  },
  {
   "cell_type": "code",
   "execution_count": 6,
   "metadata": {},
   "outputs": [
    {
     "data": {
      "text/html": [
       "<div>\n",
       "<style scoped>\n",
       "    .dataframe tbody tr th:only-of-type {\n",
       "        vertical-align: middle;\n",
       "    }\n",
       "\n",
       "    .dataframe tbody tr th {\n",
       "        vertical-align: top;\n",
       "    }\n",
       "\n",
       "    .dataframe thead th {\n",
       "        text-align: right;\n",
       "    }\n",
       "</style>\n",
       "<table border=\"1\" class=\"dataframe\">\n",
       "  <thead>\n",
       "    <tr style=\"text-align: right;\">\n",
       "      <th></th>\n",
       "      <th>Year</th>\n",
       "      <th>Rank</th>\n",
       "      <th>Revenue</th>\n",
       "    </tr>\n",
       "  </thead>\n",
       "  <tbody>\n",
       "    <tr>\n",
       "      <th>count</th>\n",
       "      <td>25500.00000</td>\n",
       "      <td>25500.000000</td>\n",
       "      <td>25500.000000</td>\n",
       "    </tr>\n",
       "    <tr>\n",
       "      <th>mean</th>\n",
       "      <td>1980.00000</td>\n",
       "      <td>250.499765</td>\n",
       "      <td>4273.329635</td>\n",
       "    </tr>\n",
       "    <tr>\n",
       "      <th>std</th>\n",
       "      <td>14.71989</td>\n",
       "      <td>144.339963</td>\n",
       "      <td>11351.884979</td>\n",
       "    </tr>\n",
       "    <tr>\n",
       "      <th>min</th>\n",
       "      <td>1955.00000</td>\n",
       "      <td>1.000000</td>\n",
       "      <td>49.700000</td>\n",
       "    </tr>\n",
       "    <tr>\n",
       "      <th>25%</th>\n",
       "      <td>1967.00000</td>\n",
       "      <td>125.750000</td>\n",
       "      <td>362.300000</td>\n",
       "    </tr>\n",
       "    <tr>\n",
       "      <th>50%</th>\n",
       "      <td>1980.00000</td>\n",
       "      <td>250.500000</td>\n",
       "      <td>1019.000000</td>\n",
       "    </tr>\n",
       "    <tr>\n",
       "      <th>75%</th>\n",
       "      <td>1993.00000</td>\n",
       "      <td>375.250000</td>\n",
       "      <td>3871.000000</td>\n",
       "    </tr>\n",
       "    <tr>\n",
       "      <th>max</th>\n",
       "      <td>2005.00000</td>\n",
       "      <td>500.000000</td>\n",
       "      <td>288189.000000</td>\n",
       "    </tr>\n",
       "  </tbody>\n",
       "</table>\n",
       "</div>"
      ],
      "text/plain": [
       "              Year          Rank        Revenue\n",
       "count  25500.00000  25500.000000   25500.000000\n",
       "mean    1980.00000    250.499765    4273.329635\n",
       "std       14.71989    144.339963   11351.884979\n",
       "min     1955.00000      1.000000      49.700000\n",
       "25%     1967.00000    125.750000     362.300000\n",
       "50%     1980.00000    250.500000    1019.000000\n",
       "75%     1993.00000    375.250000    3871.000000\n",
       "max     2005.00000    500.000000  288189.000000"
      ]
     },
     "execution_count": 6,
     "metadata": {},
     "output_type": "execute_result"
    }
   ],
   "source": [
    "f500data.describe()"
   ]
  },
  {
   "cell_type": "markdown",
   "metadata": {},
   "source": [
    "Question 1:\n",
    "Generate a plot that details the 5 top Companies by Revenue for each Decade.\n",
    "E.g., Top 5 for 1950-1959, 1960-1969, etc. This must be a single plot, either static or interactive.\n",
    "\n",
    "To do this I must first identify the top 5 Companies by Revenue for each Decade. I create a new dataframe that\n",
    "contains the top 5 companies in each year and put it in a new dataframe.\n"
   ]
  },
  {
   "cell_type": "code",
   "execution_count": 7,
   "metadata": {},
   "outputs": [
    {
     "name": "stdout",
     "output_type": "stream",
     "text": [
      "Company                       Year\n",
      "3Com                          1970     20348.3\n",
      "3M                            1970    359032.7\n",
      "A-T-O                         1970      1302.7\n",
      "A. Schulman                   1970      4541.5\n",
      "A.H. Robins                   1970      4963.7\n",
      "                                        ...   \n",
      "Youngstown Sheet & Tube       1970      9621.7\n",
      "Yuba Consolidated Industries  1970       189.8\n",
      "Yum Brands                    1970     55484.0\n",
      "Zenith Electronics            1970     37618.0\n",
      "Zurn Industries               1970       610.6\n",
      "Name: Revenue, Length: 1887, dtype: float64\n"
     ]
    }
   ],
   "source": [
    "# Load your company data into a pandas dataframe\n",
    "df = pd.read_csv(\"fortune500_data.csv\")\n",
    "\n",
    "# Convert the date column to a pandas datetime object\n",
    "df['Year'] = pd.to_datetime(df['Year'])\n",
    "\n",
    "# Group the data by company and decade and sum the revenue values\n",
    "df_decade = df.groupby([df['Company'], df['Year'].dt.year // 10 * 10])['Revenue'].sum()\n",
    "\n",
    "# Print the resulting dataframe\n",
    "print(df_decade)"
   ]
  },
  {
   "cell_type": "code",
   "execution_count": 8,
   "metadata": {},
   "outputs": [
    {
     "name": "stdout",
     "output_type": "stream",
     "text": [
      "                                    Revenue  \\\n",
      "Company                      Year             \n",
      "3Com                         1970   20348.3   \n",
      "3M                           1970  359032.7   \n",
      "A-T-O                        1970    1302.7   \n",
      "A. Schulman                  1970    4541.5   \n",
      "A.H. Robins                  1970    4963.7   \n",
      "...                                     ...   \n",
      "Youngstown Sheet & Tube      1970    9621.7   \n",
      "Yuba Consolidated Industries 1970     189.8   \n",
      "Yum Brands                   1970   55484.0   \n",
      "Zenith Electronics           1970   37618.0   \n",
      "Zurn Industries              1970     610.6   \n",
      "\n",
      "                                                                                Year  \n",
      "Company                      Year                                                     \n",
      "3Com                         1970  19995    1970\\n21954    1970\\n22302    1970\\n2...  \n",
      "3M                           1970  130      1970\\n624      1970\\n1115     1970\\n1...  \n",
      "A-T-O                        1970  6820    1970\\n7276    1970\\n7757    1970\\n8287...  \n",
      "A. Schulman                  1970  16997    1970\\n17448    1970\\n17950    1970\\n1...  \n",
      "A.H. Robins                  1970  14461    1970\\n14928    1970\\n15403    1970\\n1...  \n",
      "...                                                                              ...  \n",
      "Youngstown Sheet & Tube      1970  69      1970\\n554     1970\\n1052    1970\\n1552...  \n",
      "Yuba Consolidated Industries 1970  3415    1970\\n3911    1970\\nName: Year, dtype:...  \n",
      "Yum Brands                   1970  22189    1970\\n22725    1970\\n23262    1970\\n2...  \n",
      "Zenith Electronics           1970  223      1970\\n724      1970\\n1266     1970\\n1...  \n",
      "Zurn Industries              1970           18463    1970\\nName: Year, dtype: int64s  \n",
      "\n",
      "[1887 rows x 2 columns]\n"
     ]
    }
   ],
   "source": [
    "\n",
    "\n",
    "# Convert the date column to a pandas datetime object\n",
    "df['Year'] = pd.to_datetime(df['Year'])\n",
    "\n",
    "# Group the data by company and decade and sum the revenue values\n",
    "df_decade = df.groupby([df['Company'], df['Year'].dt.year // 10 * 10]).agg({'Revenue': 'sum', 'Year': lambda x: str(x.dt.year // 10 * 10) + 's'})\n",
    "\n",
    "# Print the resulting dataframe\n",
    "print(df_decade)"
   ]
  },
  {
   "cell_type": "code",
   "execution_count": null,
   "metadata": {},
   "outputs": [],
   "source": []
  },
  {
   "cell_type": "code",
   "execution_count": null,
   "metadata": {},
   "outputs": [],
   "source": []
  },
  {
   "cell_type": "code",
   "execution_count": null,
   "metadata": {},
   "outputs": [],
   "source": []
  }
 ],
 "metadata": {
  "kernelspec": {
   "display_name": "Python 3 (ipykernel)",
   "language": "python",
   "name": "python3"
  },
  "language_info": {
   "codemirror_mode": {
    "name": "ipython",
    "version": 3
   },
   "file_extension": ".py",
   "mimetype": "text/x-python",
   "name": "python",
   "nbconvert_exporter": "python",
   "pygments_lexer": "ipython3",
   "version": "3.9.13"
  }
 },
 "nbformat": 4,
 "nbformat_minor": 4
}
